{
 "cells": [
  {
   "cell_type": "code",
   "execution_count": 1,
   "id": "ff2298d2-c766-46ad-a802-413ae1c1cc06",
   "metadata": {},
   "outputs": [],
   "source": [
    "import nltk\n",
    "from nltk.tokenize import word_tokenize, sent_tokenize\n",
    "from nltk.corpus import stopwords\n",
    "from nltk.stem import WordNetLemmatizer, PorterStemmer\n",
    "import csv\n",
    "import pandas as pd\n",
    "import numpy as np\n"
   ]
  },
  {
   "cell_type": "code",
   "execution_count": 2,
   "id": "6eb8b2fa-33e3-44ec-8719-22fe052f96a2",
   "metadata": {},
   "outputs": [
    {
     "name": "stderr",
     "output_type": "stream",
     "text": [
      "[nltk_data] Downloading package punkt to\n",
      "[nltk_data]     C:\\Users\\yasin\\AppData\\Roaming\\nltk_data...\n",
      "[nltk_data]   Package punkt is already up-to-date!\n",
      "[nltk_data] Downloading package stopwords to\n",
      "[nltk_data]     C:\\Users\\yasin\\AppData\\Roaming\\nltk_data...\n",
      "[nltk_data]   Package stopwords is already up-to-date!\n",
      "[nltk_data] Downloading package wordnet to\n",
      "[nltk_data]     C:\\Users\\yasin\\AppData\\Roaming\\nltk_data...\n",
      "[nltk_data]   Package wordnet is already up-to-date!\n"
     ]
    },
    {
     "data": {
      "text/plain": [
       "True"
      ]
     },
     "execution_count": 2,
     "metadata": {},
     "output_type": "execute_result"
    }
   ],
   "source": [
    " nltk.download('punkt')\n",
    " nltk.download('stopwords')\n",
    " nltk.download('wordnet')"
   ]
  },
  {
   "cell_type": "code",
   "execution_count": 3,
   "id": "f0626228-dc26-472e-a7d7-b9d3a7cdf060",
   "metadata": {},
   "outputs": [],
   "source": [
    "yeni= pd.read_csv(\"C:/Users/yasin/Desktop/birlesik_yorumlar.csv\")"
   ]
  },
  {
   "cell_type": "code",
   "execution_count": 13,
   "id": "792bd16f-1239-45e4-86d1-edcd2e7085cc",
   "metadata": {},
   "outputs": [
    {
     "data": {
      "text/html": [
       "<div>\n",
       "<style scoped>\n",
       "    .dataframe tbody tr th:only-of-type {\n",
       "        vertical-align: middle;\n",
       "    }\n",
       "\n",
       "    .dataframe tbody tr th {\n",
       "        vertical-align: top;\n",
       "    }\n",
       "\n",
       "    .dataframe thead th {\n",
       "        text-align: right;\n",
       "    }\n",
       "</style>\n",
       "<table border=\"1\" class=\"dataframe\">\n",
       "  <thead>\n",
       "    <tr style=\"text-align: right;\">\n",
       "      <th></th>\n",
       "      <th>0</th>\n",
       "    </tr>\n",
       "  </thead>\n",
       "  <tbody>\n",
       "    <tr>\n",
       "      <th>0</th>\n",
       "      <td>“The fries were terrific also, hot crisp...”</td>\n",
       "    </tr>\n",
       "    <tr>\n",
       "      <th>1</th>\n",
       "      <td>“I love the food and our server Maria!”</td>\n",
       "    </tr>\n",
       "    <tr>\n",
       "      <th>2</th>\n",
       "      <td>“The filet mignon was impeccable and the musse...</td>\n",
       "    </tr>\n",
       "    <tr>\n",
       "      <th>3</th>\n",
       "      <td>“My seafood cocktail had wonderful large lump ...</td>\n",
       "    </tr>\n",
       "    <tr>\n",
       "      <th>4</th>\n",
       "      <td>“penne al pomodoro and bucatini cacio e pepe w...</td>\n",
       "    </tr>\n",
       "    <tr>\n",
       "      <th>...</th>\n",
       "      <td>...</td>\n",
       "    </tr>\n",
       "    <tr>\n",
       "      <th>17393</th>\n",
       "      <td>The room was good, comfortable and aesthetic \\...</td>\n",
       "    </tr>\n",
       "    <tr>\n",
       "      <th>17394</th>\n",
       "      <td>good hotel</td>\n",
       "    </tr>\n",
       "    <tr>\n",
       "      <th>17395</th>\n",
       "      <td>good experience for me about hotel \\nvery good...</td>\n",
       "    </tr>\n",
       "    <tr>\n",
       "      <th>17396</th>\n",
       "      <td>well done</td>\n",
       "    </tr>\n",
       "    <tr>\n",
       "      <th>17397</th>\n",
       "      <td>Nothing</td>\n",
       "    </tr>\n",
       "  </tbody>\n",
       "</table>\n",
       "<p>17398 rows × 1 columns</p>\n",
       "</div>"
      ],
      "text/plain": [
       "                                                       0\n",
       "0           “The fries were terrific also, hot crisp...”\n",
       "1                “I love the food and our server Maria!”\n",
       "2      “The filet mignon was impeccable and the musse...\n",
       "3      “My seafood cocktail had wonderful large lump ...\n",
       "4      “penne al pomodoro and bucatini cacio e pepe w...\n",
       "...                                                  ...\n",
       "17393  The room was good, comfortable and aesthetic \\...\n",
       "17394                                         good hotel\n",
       "17395  good experience for me about hotel \\nvery good...\n",
       "17396                                          well done\n",
       "17397                                            Nothing\n",
       "\n",
       "[17398 rows x 1 columns]"
      ]
     },
     "execution_count": 13,
     "metadata": {},
     "output_type": "execute_result"
    }
   ],
   "source": [
    "yeni"
   ]
  },
  {
   "cell_type": "code",
   "execution_count": 11,
   "id": "1927415b-c257-46e9-b0f7-8d1c901f1ce8",
   "metadata": {},
   "outputs": [
    {
     "name": "stdout",
     "output_type": "stream",
     "text": [
      "Veri Seti Bilgisi:\n",
      "<class 'pandas.core.frame.DataFrame'>\n",
      "RangeIndex: 17398 entries, 0 to 17397\n",
      "Data columns (total 1 columns):\n",
      " #   Column  Non-Null Count  Dtype \n",
      "---  ------  --------------  ----- \n",
      " 0   0       17391 non-null  object\n",
      "dtypes: object(1)\n",
      "memory usage: 136.1+ KB\n",
      "None\n",
      "\n",
      "İlk 5 Satır:\n",
      "| 0                                                                                  |\n",
      "|:-----------------------------------------------------------------------------------|\n",
      "| “The fries were terrific also, hot crisp...”                                       |\n",
      "| “I love the food and our server Maria!”                                            |\n",
      "| “The filet mignon was impeccable and the mussels and steak tartare were also v...” |\n",
      "| “My seafood cocktail had wonderful large lump crabmeat, delicious lobster and...”  |\n",
      "| “penne al pomodoro and bucatini cacio e pepe were delicious.”                      |\n",
      "\n",
      "Eksik Veri Sayısı:\n",
      "0    7\n",
      "dtype: int64\n"
     ]
    }
   ],
   "source": [
    "\n",
    "\n",
    "# Birleştirilmiş veri setini yükle\n",
    "df = pd.read_csv(\"C:/Users/yasin/Desktop/birlesik_yorumlar.csv\")\n",
    "\n",
    "# Veri setini incele\n",
    "print(\"Veri Seti Bilgisi:\")\n",
    "print(df.info())\n",
    "\n",
    "print(\"\\nİlk 5 Satır:\")\n",
    "print(df.head().to_markdown(index=False, numalign=\"left\", stralign=\"left\"))\n",
    "\n",
    "print(\"\\nEksik Veri Sayısı:\")\n",
    "print(df.isnull().sum())"
   ]
  },
  {
   "cell_type": "code",
   "execution_count": 14,
   "id": "40e43a8c-37fb-4dd0-a96f-86ed365a630e",
   "metadata": {},
   "outputs": [
    {
     "name": "stdout",
     "output_type": "stream",
     "text": [
      "['“The fries were terrific also, hot crisp...” “I love the food and our server Maria!” “The filet mignon was impeccable and the mussels and steak tartare were also v...” “My seafood cocktail had wonderful large lump crabmeat, delicious lobster and...” “penne al pomodoro and bucatini cacio e pepe were delicious.” “Highly recommend the onion soup, mussels and french fries.” “Great food ; good price” “Best cocktails” “Worth travelling over 5000 miles for” “Incredible Italian, perfect pizza, top...” “Splendid pizza” “Excellent” “We had French Onion Soup, which was delicious.” “... food is great, especially the mussels, they were so good and fresh!!', 'Abso...” “We loved the charcuterie board, the burger, and of course the onion soup and...” “The chicken tikka masala is my favorite...” “Good ramen, no frills” “The wings and crispy duck fried rice were by far our favorite!” “Delicious” “... the breakfast sandwich’s and of cou...” “Buratta, Arancini, bucatini, lasagna, everything was delicious.” “The fish is fresh and moist and the lamb is superb.” “Highly recommend the branzino, ravioli, and mussels.” “We adults devoured the ceviche and octopus enjoying g every bite!!!', '!….mmmmmmm...” “Very Authentic & Delicious” “... Korean cuisine, for example Sea Urchin Bibimbab or Black Cod with Clam Foam.” “Chicken satay buns to start followed by prawn pad, Thai, and a fantastic beef...” “Excellent food” “The others had the Bolognese followed by the pork chop dinner.” “Soup is slightly salty but pork and the noodles inside is amazing.” “Great quality for the price!” “We started with the loaded nachos.” “Superb Steak, really delicious” “I had chicken piccata” “Casual Dinner” “Best brunch - fluffiest french toast!” “I had a ribeye steak which was excellent quality meat, beautifully cooked and...” “I had a ribeye steak which was excellent quality meat, beautifully cooked and...” “We were given a complimentary pistachio tiramisu that was light, fluffy, crun...” “Was very pleased with the duck entree.” “... pizza, kale salad, rich chocolate p...” “Taco salad” “What a NYC Pizzeria Should Be” “Amazing!!', '!” “Best Steak and Vibe in the City” “... stand out dishes were the Maine Lobster Salad “ Chaud-Froid” , the Maine ...” “Best risotto we had ever had in our lives thus far.” “Loved it small cozy and delicious” “Great authentic American breakfast kitchen” “Our favorites were the flatbread, steak tartare and chicken.” “... we enjoyed the performance of Hamilton Leithauser and his back up band.” “... the sushi is fresh and delicious and the fried rice was also excellent.” “The food was also tasty - get the fries.” “... and the Duck Ramen is my favorite..” “Best cocktails” “The sushi and Ramen are particularly fabulous.” “... the various dishes: blistered peppers; patatas bravas; croquettes; ribs.” “Awesome first visit!!!!', '!” “My coq au vin had a tasty, moist chicken served with a delicate sauce with ve...” “Enjoyed the dumplings, bulgogi, chicken, pork belly, and spare ribs.” “Great food ; good price” “The filet mignon was just out of this world and cooked to absolute perfection.” “My son got the Salmon and he said it was delicious.” “we ordered and waited in bar area.” “Lunch in Chelsea, NYC” “Especially the lobster and Caviar and t...” “We also had pork and ginger gyoza.” “... comes with a salad, an appetizer an...” “Most delicious dishes and very good...” “The most perfect NY bagels with an asto...” “Great Place and Irish Breakfast” “Delicious Mexican Food Close to Theatre District” “I had the sliders and a green salad with a tasty lemony vinaigrette.” No “... notch, including the O-toro sashimi.” “Octopus and tuna tartare were exceptional.” “They serve breakfast all day, including eggs, bagels, smoked fish, matzoh bal...” “... Tony’s and thank god they did!!!', \"Pasta was delicious and the Tony’s chick...” “We had French Toast, Waffles and scramb...” “... and sturgeon tart, and my husband dreams about the hay-smoked duck.” “Great food ; good price” “Special mention to the kale pesto pasta appetizer and the burger, which were...” “Beautiful food and wine” “We had the 9 course tasting menu and the 2 with Celiac had a slightly modifie...” “... the 2nd category and the last with the likes of black bass and red snapper.” “The taste of spaghetti is deep and pleasant.” “Delicious thin crust pizza” “I ordered the Astakomakaronada which includes poached Maine lobster with squi...” “We very much enjoyed The Shiitake Truffle Dumplings and the Cauliflower Wings.” “... green goddess dressing on the salad.” “A superb little Italian restaurant” “... the carbonara followed by the homemade cannoli and they were both delicious.” “Good, not typical NY slice” “A wonderful place for a quick bite or even hangout with some friends.” “Good Italian in the Lower East Side” “Stunning vegetarian tasting menu” “Special cheesecake” “... the wonderful taste of the lamb.” “Good experience for dinner” “The best cheesecake in newyork by far 😋” “A Must Visit” “... really good and cashew chilli chicken for main can't fault it would defin...” “The octopus is always cooked perfectly...” “Happy Hour Fanatics!” “Quite possibly the best Pizza I ever ate!” “... notch, including the O-toro sashimi.” “Organic range fed beef and truffle sauc...” “Delicious Pizza” “1st class” “... and chicken in breadcrumbs with spaghetti and a green salad, and we share...” “Best cocktails” “I had a ribeye steak which was excellent quality meat, beautifully cooked and...” “Welcome G-F-option restaurant near the...” “... my collègue Paccheri squid ink and ...” “Lovely Civilized Lunch” “French toast and pancakes both deliciou...” “The best guacamole” “Southern classics” “Great Indian food” “If you’re looking for some delicious Thai food, I highly suggest that you che...” “Great atmosphere” “We started with a dozen oysters then moved on to the mussels.” “Excellent ramen and buns!” “We also had pork and ginger gyoza.” “Oysters, Clam Chowder, Prawns, Muscles and of course the Lobster Rolls!\", '!” “Red curry was perfectly spiced and quit...” “You will certainly have a laugh!” “Fantastic Vegan Eats in NYC” “As starters, we had drinks and shared a caprese salad and a platter of clams.” “Decent French Cuisine” “We got one of the more modern bagels that was tuna and wasabi roe and the cla...” “... soup and fried oysters stole the sh...” “We ordered the scallops with yuzu, toro...” “I had the filet mignon with the mashed potatoes and the cheesecake for dessert.” “The Prawn starter (which we\\'re still talking about), Crab Cakes and the Steak...” “Cozy and lovely restaurant with fresh pasta and bread.” “If I could give it 6 stars …” “Special Spot” “They know what they are doing” “... a terrific meal, a \"flight\" of lasagna, four flavors served in individual...” “Superb Steak, really delicious” “Gluten free Neapolitan pizza” “... to wait at the bar and the bar staf...” “Make a res and GO!” “Anniversary Dinner” “Amazing variety” “Best cocktails” No “Highlights were the tuna tartare appetizer and the salmon entree.” “Very good pizza, but a Michelin mention?” “... (A MUST!)', \"and had soft shell crab special and foie Gras for main course.” “Best experience” “Banging chicken wings.” “Spicy cold noodles weren’t spicy at all.” “Excellent Pizza” “We also shared a truffle fries .” “The service and friendly staff was a highlight…The Eggs Benedict were divine,...” “Cheap and very cheerful” “The vegetarian stuffed cabbage I would pass next time.” “Popped in for a steak ahead of going up the Empire State Building.” “Great spot in Chinatown!” “... a theater workshop and an afternoon Broadway show - this diner was perfect!” “Tasty Burgers with Lobsters” “It was on my friend’s radar since it offered gluten-free pasta.” “Best bagels ever” “... Dip, my husband had the Spicy Tuna roll which he said was outstanding.” “Maryland’s Best in NYC” “Great desserts” “Wonderful Food & Service” “... replaced the rack of lamb for a lobster dish which she loved, I had the L...” “I had the lasagna, my husband had the carbonara, and my son the Pesto gnocchi...” “Baz Bagel offers great bagels and very tasty smoothies.” “The bartender/server suggested the ribeye as well as the special mashed potat...” “The lobster bisque was velvety and luscious.” “The pancakes are amazing as is the Fren...” “Three Chili Chicken was perfectly spiced.” “Followed by the Atlantic Char which I’d never had before it was like salmon o...” “Wow” “The Prawn starter (which we're still talking about), Crab Cakes and the Steak...” “... meatballs with warm spicy sauce for me an a nice salad with chicken for her.” “The Pasta dishes were outstanding.” “... for great feijoada and capirinhas, ...” “... didn’t want a huge meal so decided to have wings and fries with our drinks.” “... steak, grilled asparagus and clam chowder all of which were exceptional.” “The fries were terrific also, hot crisp...” “Quite possibly the best Pizza I ever ate!” “... roasted lobster and scampi in red s...” “My kids all had the filet mignon.” “We had the salmon dish which was wonderful and a paella.” “My wife had the chicken parmigiana and loved it.” “I had their eggs Benedict and they were...” “Worth the price” “My wife and I shared a salad which was just OK for a salad, and my wife order...” “Very Good Farm to Table Cooking” “The cannoli was just beyond amazing and I know tomorrow I’m going to be wishi...” “Great Friday night while visiting NY” “Delicious sushi & sashimi!” “Can't Miss” “High quality inventive ramen.\", 'Enjoy!” “... which was excellent and fun- matched with the duck, the lamb and the ragu.” “Both the pasta dishes my husband and I ate were fantastic and my son’s filet...” “... that had a salad, s’mores, veggies ...” “Highlights were the tuna tartare appetizer and the salmon entree.” “... was super.The main course burger was extremely filling especially with it...” “Sandwiches are great, especially hot pastrami, even matzo ball soup is flavor...” “Had the everything bagel with salmon an...” “Dessert was a large cannoli with white chocolate filling.” “Tommylicious” “Good experience for dinner” “Delicious noodles” “Great place” “Large menu with lots of interesting choices; Malai halibut very good (overpri...” “Nice Meal.', \"Ko has “slightly” lost the...” “Extraordinary Mediterranean food at an affordable price” “Perfect Picnic did a wonderful job...” “Dim Sum for beginners” “The bowl was steaming hot and the hot stone kept the rice and meat dish hot t...” “The meal was excellent, I had crab cakes and the rib eye steak and my wife ha...” “Our next course we chose Astice (Lobste...” “We had clam chowder, goat cheese salad and duck cassoulet.” “Great food ; good price” No “Superb Steak, really delicious” “We started with a shaved smoked salmon...” “One of the best eggs benedict” “Delicious Food!” “... as well as drinks and ordered a pizza, two salads, and the trout to share.” “The Prawn starter (which we're still talking about), Crab Cakes and the Steak...” “We had a wonderful dinner at Lupa, spaghetti carbonara and the garganelli bol...” “... every way, cooked exactly as I requested and the salad was also very good.” “Sensational pizza!” “Then we had the filet mignon and finished off the repast with the trio desser...” “We had a beef noodle soup and a chicken w vegetables wok dish; both were outs...” “Walk in and create what you want” “One of the best bagels in the city!” “The French Toast was to die for.” “Amazing traditional hummus.” “Excellent Italian Sunday Brunch” “Sustainable delicious food and friendly staff Different selections of oysters...” “Ordered lunch special ( Drunken Basil Noodles & Vegetable Curry Hot Pot) that...” “Good experience for dinner” “The entree of chicken and andouille sausage jambalaya was a little disappoint...” “Wondering experience at one of our go to...” “Our salad (Ensalada de Palmitos y Mandarin orange, $15) also was large and fl...” “We had chocolate chip pancakes, waffle and lumberjack pancakes.” “... with Spicy Sausage Breakfast Sandwich.” “Great food but very chaotic atmosphere” “Superb lively tapas bar.” “The sashimi was excellent and the toro rice with uni even better.” “I never write  !\"]\n"
     ]
    }
   ],
   "source": [
    "# Varsayalım ki DataFrame'iniz df ve yorumlar '0' sütununda\n",
    "text = ' '.join(df['0'].astype(str).tolist())  # Tüm yorumları tek bir metin haline getir\n",
    "sentences = sent_tokenize(text)  # Metni cümlelere ayır\n",
    "print(sentences[:10])  # İlk 10 cümleyi yazdır"
   ]
  },
  {
   "cell_type": "code",
   "execution_count": 15,
   "id": "942e6efa-b672-49a7-bf6a-4502086feaa5",
   "metadata": {},
   "outputs": [
    {
     "name": "stdout",
     "output_type": "stream",
     "text": [
      "['theirs', 'weren', \"that'll\", 'll', 'did', \"he's\", \"should've\", \"they're\", \"she's\", 'under', 'what', \"weren't\", 'why', \"she'll\", \"mustn't\", \"they'd\", 'we', 'some', 'very', 'm', 'on', 'just', 'be', 'do', 'up', 'it', 'ma', 'between', 've', 'who', 'there', 'ourselves', 'she', 'him', 'few', 'about', \"needn't\", \"it's\", 'ours', \"couldn't\", 'isn', \"he'd\", 'hers', 'my', \"wasn't\", 'haven', 'needn', 'until', 're', 'whom']\n"
     ]
    }
   ],
   "source": [
    "# Stopwords listesini almak\n",
    "stop_words = set(stopwords.words('english')) # Stopwords listesini turkce almak icin: turkish\n",
    "stop_words_list = list(stop_words)\n",
    "print(stop_words_list[:50])"
   ]
  },
  {
   "cell_type": "code",
   "execution_count": 16,
   "id": "dd0c7f3d-913a-4d35-a032-5611dd89b90b",
   "metadata": {},
   "outputs": [],
   "source": [
    "# Lemmatizer ve Stemmer'ı başlat\n",
    "lemmatizer = WordNetLemmatizer()\n",
    "stemmer = PorterStemmer()"
   ]
  },
  {
   "cell_type": "code",
   "execution_count": 23,
   "id": "2917a3db-8a1e-4af4-ae3a-e2e309c86146",
   "metadata": {},
   "outputs": [],
   "source": [
    "# Kelimeleri tokenleştirip, lemmatize etme ve stemleme\n",
    "def preprocess_sentence(sentence):\n",
    " tokens = word_tokenize(sentence) # Cümleyi kelimelere ayır\n",
    "# Sadece harf olan kelimeleri al ve stopword'leri çıkar\n",
    " filtered_tokens = [token.lower() for token in tokens if token.isalpha() and token.lower() not in stop_words]\n",
    " lemmatized_tokens = [lemmatizer.lemmatize(token) for token in filtered_tokens] # Lemmatize etme\n",
    " stemmed_tokens = [stemmer.stem(token) for token in filtered_tokens] # Stemleme\n",
    " return lemmatized_tokens, stemmed_tokens"
   ]
  },
  {
   "cell_type": "code",
   "execution_count": 24,
   "id": "d6caa286-ef32-4f29-8dd3-c3d74564a55e",
   "metadata": {},
   "outputs": [],
   "source": [
    "# Her cümleyi tokenleştir, lemmatize et ve stemle\n",
    "tokenized_corpus_lemmatized = []\n",
    "tokenized_corpus_stemmed = []"
   ]
  },
  {
   "cell_type": "code",
   "execution_count": 26,
   "id": "34115b93-fa8d-4e4f-be6c-0a9f74de28d3",
   "metadata": {},
   "outputs": [],
   "source": [
    "for sentence in sentences:\n",
    " lemmatized_tokens, stemmed_tokens = preprocess_sentence(sentence)\n",
    " tokenized_corpus_lemmatized.append(lemmatized_tokens)\n",
    " tokenized_corpus_stemmed.append(stemmed_tokens)"
   ]
  },
  {
   "cell_type": "code",
   "execution_count": 28,
   "id": "d569b6eb-f554-4299-98a9-4a86958b44b3",
   "metadata": {},
   "outputs": [],
   "source": [
    "# lemmatize edılmıs cumlelerı bır csv dosyasına kaydedın.\n",
    "with open(\"lemmatized_sentences.csv\", mode=\"w\", newline=\"\", encoding=\"utf-8\") as file:\n",
    " writer = csv.writer(file)\n",
    "# Her cümleyi bir satır olarak yaz\n",
    " for tokens in tokenized_corpus_lemmatized:\n",
    "  writer.writerow([' '.join(tokens)])"
   ]
  },
  {
   "cell_type": "code",
   "execution_count": 38,
   "id": "aeaaed3d-2e56-467e-a854-f0b7986afc51",
   "metadata": {},
   "outputs": [],
   "source": [
    "# Stem edılmıs cumlelerı bır csv dosyasına kaydedın.\n",
    "\n",
    "\n",
    "with open(\"stemmed_sentences.csv\", mode=\"w\", newline=\"\", encoding=\"utf-8\") as file:\n",
    "    writer = csv.writer(file)\n",
    "    # Her cümleyi bir satır olarak yaz\n",
    "    for tokens in tokenized_corpus_stemmed:\n",
    "        writer.writerow([' '.join(tokens)])\n"
   ]
  },
  {
   "cell_type": "code",
   "execution_count": 45,
   "id": "f652b0bd-37ca-4a37-aa46-825b19e71bca",
   "metadata": {},
   "outputs": [
    {
     "name": "stdout",
     "output_type": "stream",
     "text": [
      "Cümle 1 - Base: “The fries were terrific also, hot crisp...” “I love the food and our server Maria!” “The filet mignon was impeccable and the mussels and steak tartare were also v...” “My seafood cocktail had wonderful large lump crabmeat, delicious lobster and...” “penne al pomodoro and bucatini cacio e pepe were delicious.” “Highly recommend the onion soup, mussels and french fries.” “Great food ; good price” “Best cocktails” “Worth travelling over 5000 miles for” “Incredible Italian, perfect pizza, top...” “Splendid pizza” “Excellent” “We had French Onion Soup, which was delicious.” “... food is great, especially the mussels, they were so good and fresh!!\n",
      "Cümle 1 - Lemmatized: ['fry', 'terrific', 'also', 'hot', 'crisp', 'love', 'food', 'server', 'maria', 'filet', 'mignon', 'impeccable', 'mussel', 'steak', 'tartare', 'also', 'v', 'seafood', 'cocktail', 'wonderful', 'large', 'lump', 'crabmeat', 'delicious', 'lobster', 'penne', 'al', 'pomodoro', 'bucatini', 'cacio', 'e', 'pepe', 'highly', 'recommend', 'onion', 'soup', 'mussel', 'french', 'great', 'food', 'good', 'price', 'best', 'cocktail', 'worth', 'travelling', 'mile', 'incredible', 'italian', 'perfect', 'pizza', 'top', 'splendid', 'pizza', 'excellent', 'french', 'onion', 'soup', 'food', 'great', 'especially', 'mussel', 'good', 'fresh']\n",
      "Cümle 1 - Stemmed: ['fri', 'terrif', 'also', 'hot', 'crisp', 'love', 'food', 'server', 'maria', 'filet', 'mignon', 'impecc', 'mussel', 'steak', 'tartar', 'also', 'v', 'seafood', 'cocktail', 'wonder', 'larg', 'lump', 'crabmeat', 'delici', 'lobster', 'penn', 'al', 'pomodoro', 'bucatini', 'cacio', 'e', 'pepe', 'highli', 'recommend', 'onion', 'soup', 'mussel', 'french', 'great', 'food', 'good', 'price', 'best', 'cocktail', 'worth', 'travel', 'mile', 'incred', 'italian', 'perfect', 'pizza', 'top', 'splendid', 'pizza', 'excel', 'french', 'onion', 'soup', 'food', 'great', 'especi', 'mussel', 'good', 'fresh']\n",
      "\n",
      "\n",
      "Cümle 2 - Base: Abso...” “We loved the charcuterie board, the burger, and of course the onion soup and...” “The chicken tikka masala is my favorite...” “Good ramen, no frills” “The wings and crispy duck fried rice were by far our favorite!” “Delicious” “... the breakfast sandwich’s and of cou...” “Buratta, Arancini, bucatini, lasagna, everything was delicious.” “The fish is fresh and moist and the lamb is superb.” “Highly recommend the branzino, ravioli, and mussels.” “We adults devoured the ceviche and octopus enjoying g every bite!!!\n",
      "Cümle 2 - Lemmatized: ['abso', 'loved', 'charcuterie', 'board', 'burger', 'course', 'onion', 'soup', 'chicken', 'tikka', 'masala', 'favorite', 'good', 'ramen', 'frill', 'wing', 'crispy', 'duck', 'fried', 'rice', 'far', 'favorite', 'delicious', 'breakfast', 'sandwich', 'cou', 'buratta', 'arancini', 'bucatini', 'lasagna', 'everything', 'fish', 'fresh', 'moist', 'lamb', 'highly', 'recommend', 'branzino', 'ravioli', 'adult', 'devoured', 'ceviche', 'octopus', 'enjoying', 'g', 'every', 'bite']\n",
      "Cümle 2 - Stemmed: ['abso', 'love', 'charcuteri', 'board', 'burger', 'cours', 'onion', 'soup', 'chicken', 'tikka', 'masala', 'favorit', 'good', 'ramen', 'frill', 'wing', 'crispi', 'duck', 'fri', 'rice', 'far', 'favorit', 'delici', 'breakfast', 'sandwich', 'cou', 'buratta', 'arancini', 'bucatini', 'lasagna', 'everyth', 'fish', 'fresh', 'moist', 'lamb', 'highli', 'recommend', 'branzino', 'ravioli', 'adult', 'devour', 'cevich', 'octopu', 'enjoy', 'g', 'everi', 'bite']\n",
      "\n",
      "\n",
      "Cümle 3 - Base: !….mmmmmmm...” “Very Authentic & Delicious” “... Korean cuisine, for example Sea Urchin Bibimbab or Black Cod with Clam Foam.” “Chicken satay buns to start followed by prawn pad, Thai, and a fantastic beef...” “Excellent food” “The others had the Bolognese followed by the pork chop dinner.” “Soup is slightly salty but pork and the noodles inside is amazing.” “Great quality for the price!” “We started with the loaded nachos.” “Superb Steak, really delicious” “I had chicken piccata” “Casual Dinner” “Best brunch - fluffiest french toast!” “I had a ribeye steak which was excellent quality meat, beautifully cooked and...” “I had a ribeye steak which was excellent quality meat, beautifully cooked and...” “We were given a complimentary pistachio tiramisu that was light, fluffy, crun...” “Was very pleased with the duck entree.” “... pizza, kale salad, rich chocolate p...” “Taco salad” “What a NYC Pizzeria Should Be” “Amazing!!\n",
      "Cümle 3 - Lemmatized: ['authentic', 'delicious', 'korean', 'cuisine', 'example', 'sea', 'urchin', 'bibimbab', 'black', 'cod', 'clam', 'chicken', 'satay', 'bun', 'start', 'followed', 'prawn', 'pad', 'thai', 'fantastic', 'beef', 'excellent', 'food', 'others', 'bolognese', 'followed', 'pork', 'chop', 'soup', 'slightly', 'salty', 'pork', 'noodle', 'inside', 'great', 'quality', 'price', 'started', 'loaded', 'superb', 'steak', 'really', 'delicious', 'chicken', 'piccata', 'casual', 'dinner', 'best', 'brunch', 'fluffiest', 'french', 'toast', 'ribeye', 'steak', 'excellent', 'quality', 'meat', 'beautifully', 'cooked', 'ribeye', 'steak', 'excellent', 'quality', 'meat', 'beautifully', 'cooked', 'given', 'complimentary', 'pistachio', 'tiramisu', 'light', 'fluffy', 'crun', 'pleased', 'duck', 'pizza', 'kale', 'salad', 'rich', 'chocolate', 'p', 'taco', 'salad', 'nyc', 'pizzeria', 'amazing']\n",
      "Cümle 3 - Stemmed: ['authent', 'delici', 'korean', 'cuisin', 'exampl', 'sea', 'urchin', 'bibimbab', 'black', 'cod', 'clam', 'chicken', 'satay', 'bun', 'start', 'follow', 'prawn', 'pad', 'thai', 'fantast', 'beef', 'excel', 'food', 'other', 'bolognes', 'follow', 'pork', 'chop', 'soup', 'slightli', 'salti', 'pork', 'noodl', 'insid', 'great', 'qualiti', 'price', 'start', 'load', 'superb', 'steak', 'realli', 'delici', 'chicken', 'piccata', 'casual', 'dinner', 'best', 'brunch', 'fluffiest', 'french', 'toast', 'ribey', 'steak', 'excel', 'qualiti', 'meat', 'beauti', 'cook', 'ribey', 'steak', 'excel', 'qualiti', 'meat', 'beauti', 'cook', 'given', 'complimentari', 'pistachio', 'tiramisu', 'light', 'fluffi', 'crun', 'pleas', 'duck', 'pizza', 'kale', 'salad', 'rich', 'chocol', 'p', 'taco', 'salad', 'nyc', 'pizzeria', 'amaz']\n",
      "\n",
      "\n",
      "Cümle 4 - Base: !” “Best Steak and Vibe in the City” “... stand out dishes were the Maine Lobster Salad “ Chaud-Froid” , the Maine ...” “Best risotto we had ever had in our lives thus far.” “Loved it small cozy and delicious” “Great authentic American breakfast kitchen” “Our favorites were the flatbread, steak tartare and chicken.” “... we enjoyed the performance of Hamilton Leithauser and his back up band.” “... the sushi is fresh and delicious and the fried rice was also excellent.” “The food was also tasty - get the fries.” “... and the Duck Ramen is my favorite..” “Best cocktails” “The sushi and Ramen are particularly fabulous.” “... the various dishes: blistered peppers; patatas bravas; croquettes; ribs.” “Awesome first visit!!!!\n",
      "Cümle 4 - Lemmatized: ['best', 'steak', 'vibe', 'city', 'stand', 'dish', 'maine', 'lobster', 'salad', 'maine', 'best', 'risotto', 'ever', 'life', 'thus', 'loved', 'small', 'cozy', 'delicious', 'great', 'authentic', 'american', 'breakfast', 'kitchen', 'favorite', 'flatbread', 'steak', 'tartare', 'enjoyed', 'performance', 'hamilton', 'leithauser', 'back', 'sushi', 'fresh', 'delicious', 'fried', 'rice', 'also', 'food', 'also', 'tasty', 'get', 'duck', 'ramen', 'favorite', 'best', 'cocktail', 'sushi', 'ramen', 'particularly', 'various', 'dish', 'blistered', 'pepper', 'patatas', 'bravas', 'croquette', 'awesome', 'first', 'visit']\n",
      "Cümle 4 - Stemmed: ['best', 'steak', 'vibe', 'citi', 'stand', 'dish', 'main', 'lobster', 'salad', 'main', 'best', 'risotto', 'ever', 'live', 'thu', 'love', 'small', 'cozi', 'delici', 'great', 'authent', 'american', 'breakfast', 'kitchen', 'favorit', 'flatbread', 'steak', 'tartar', 'enjoy', 'perform', 'hamilton', 'leithaus', 'back', 'sushi', 'fresh', 'delici', 'fri', 'rice', 'also', 'food', 'also', 'tasti', 'get', 'duck', 'ramen', 'favorit', 'best', 'cocktail', 'sushi', 'ramen', 'particularli', 'variou', 'dish', 'blister', 'pepper', 'patata', 'brava', 'croquett', 'awesom', 'first', 'visit']\n",
      "\n",
      "\n",
      "Cümle 5 - Base: !” “My coq au vin had a tasty, moist chicken served with a delicate sauce with ve...” “Enjoyed the dumplings, bulgogi, chicken, pork belly, and spare ribs.” “Great food ; good price” “The filet mignon was just out of this world and cooked to absolute perfection.” “My son got the Salmon and he said it was delicious.” “we ordered and waited in bar area.” “Lunch in Chelsea, NYC” “Especially the lobster and Caviar and t...” “We also had pork and ginger gyoza.” “... comes with a salad, an appetizer an...” “Most delicious dishes and very good...” “The most perfect NY bagels with an asto...” “Great Place and Irish Breakfast” “Delicious Mexican Food Close to Theatre District” “I had the sliders and a green salad with a tasty lemony vinaigrette.” No “... notch, including the O-toro sashimi.” “Octopus and tuna tartare were exceptional.” “They serve breakfast all day, including eggs, bagels, smoked fish, matzoh bal...” “... Tony’s and thank god they did!!!\n",
      "Cümle 5 - Lemmatized: ['coq', 'au', 'vin', 'tasty', 'moist', 'chicken', 'served', 'delicate', 'sauce', 'enjoyed', 'dumpling', 'bulgogi', 'chicken', 'pork', 'belly', 'spare', 'great', 'food', 'good', 'price', 'filet', 'mignon', 'world', 'cooked', 'absolute', 'son', 'got', 'salmon', 'said', 'ordered', 'waited', 'bar', 'lunch', 'chelsea', 'nyc', 'especially', 'lobster', 'caviar', 'also', 'pork', 'ginger', 'come', 'salad', 'appetizer', 'delicious', 'dish', 'good', 'perfect', 'ny', 'bagel', 'asto', 'great', 'place', 'irish', 'breakfast', 'delicious', 'mexican', 'food', 'close', 'theatre', 'district', 'slider', 'green', 'salad', 'tasty', 'lemony', 'notch', 'including', 'octopus', 'tuna', 'tartare', 'serve', 'breakfast', 'day', 'including', 'egg', 'bagel', 'smoked', 'fish', 'matzoh', 'bal', 'tony', 'thank', 'god']\n",
      "Cümle 5 - Stemmed: ['coq', 'au', 'vin', 'tasti', 'moist', 'chicken', 'serv', 'delic', 'sauc', 'enjoy', 'dumpl', 'bulgogi', 'chicken', 'pork', 'belli', 'spare', 'great', 'food', 'good', 'price', 'filet', 'mignon', 'world', 'cook', 'absolut', 'son', 'got', 'salmon', 'said', 'order', 'wait', 'bar', 'lunch', 'chelsea', 'nyc', 'especi', 'lobster', 'caviar', 'also', 'pork', 'ginger', 'come', 'salad', 'appet', 'delici', 'dish', 'good', 'perfect', 'ny', 'bagel', 'asto', 'great', 'place', 'irish', 'breakfast', 'delici', 'mexican', 'food', 'close', 'theatr', 'district', 'slider', 'green', 'salad', 'tasti', 'lemoni', 'notch', 'includ', 'octopu', 'tuna', 'tartar', 'serv', 'breakfast', 'day', 'includ', 'egg', 'bagel', 'smoke', 'fish', 'matzoh', 'bal', 'toni', 'thank', 'god']\n",
      "\n",
      "\n"
     ]
    }
   ],
   "source": [
    " # İlk 5 cümleyi yazdıralım\n",
    "for i in range(5):\n",
    "    print(f\"Cümle {i+1} - Base: {sentences[i]}\")\n",
    "    print(f\"Cümle {i+1} - Lemmatized: {tokenized_corpus_lemmatized[i]}\")\n",
    "    print(f\"Cümle {i+1} - Stemmed: {tokenized_corpus_stemmed[i]}\")\n",
    "    print(\"\\n\")\n"
   ]
  },
  {
   "cell_type": "code",
   "execution_count": null,
   "id": "62b01031-28ea-4e1f-a74d-a7b9271f28dd",
   "metadata": {},
   "outputs": [],
   "source": []
  }
 ],
 "metadata": {
  "kernelspec": {
   "display_name": "Python 3 (ipykernel)",
   "language": "python",
   "name": "python3"
  },
  "language_info": {
   "codemirror_mode": {
    "name": "ipython",
    "version": 3
   },
   "file_extension": ".py",
   "mimetype": "text/x-python",
   "name": "python",
   "nbconvert_exporter": "python",
   "pygments_lexer": "ipython3",
   "version": "3.12.7"
  }
 },
 "nbformat": 4,
 "nbformat_minor": 5
}
