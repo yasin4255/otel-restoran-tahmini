{
 "cells": [
  {
   "cell_type": "code",
   "execution_count": 1,
   "id": "d8b66d6a-0716-4a04-a408-be03b79a1a3e",
   "metadata": {},
   "outputs": [
    {
     "name": "stderr",
     "output_type": "stream",
     "text": [
      "[nltk_data] Downloading package punkt to\n",
      "[nltk_data]     C:\\Users\\yasin\\AppData\\Roaming\\nltk_data...\n",
      "[nltk_data]   Package punkt is already up-to-date!\n"
     ]
    },
    {
     "data": {
      "text/plain": [
       "True"
      ]
     },
     "execution_count": 1,
     "metadata": {},
     "output_type": "execute_result"
    }
   ],
   "source": [
    "import pandas as pd\n",
    "import re\n",
    "import numpy as np\n",
    "import matplotlib.pyplot as plt\n",
    "from collections import Counter\n",
    "import nltk\n",
    "\n",
    "nltk.download('punkt')"
   ]
  },
  {
   "cell_type": "code",
   "execution_count": 2,
   "id": "a378f631-cdeb-438d-819c-f89bf6fa60af",
   "metadata": {},
   "outputs": [],
   "source": [
    "df = pd.read_csv(r\"C:\\Users\\yasin\\Desktop\\otel-restoran-tahmini\\csv\\stemmed_sentences.csv\", header=None, names=[\"yorumlar\"])"
   ]
  },
  {
   "cell_type": "code",
   "execution_count": 3,
   "id": "858a1f82-02fe-4cf1-9f31-a444b34a117c",
   "metadata": {},
   "outputs": [
    {
     "data": {
      "text/html": [
       "<div>\n",
       "<style scoped>\n",
       "    .dataframe tbody tr th:only-of-type {\n",
       "        vertical-align: middle;\n",
       "    }\n",
       "\n",
       "    .dataframe tbody tr th {\n",
       "        vertical-align: top;\n",
       "    }\n",
       "\n",
       "    .dataframe thead th {\n",
       "        text-align: right;\n",
       "    }\n",
       "</style>\n",
       "<table border=\"1\" class=\"dataframe\">\n",
       "  <thead>\n",
       "    <tr style=\"text-align: right;\">\n",
       "      <th></th>\n",
       "      <th>yorumlar</th>\n",
       "    </tr>\n",
       "  </thead>\n",
       "  <tbody>\n",
       "    <tr>\n",
       "      <th>0</th>\n",
       "      <td>fri terrif also hot crisp love food server mar...</td>\n",
       "    </tr>\n",
       "    <tr>\n",
       "      <th>1</th>\n",
       "      <td>abso love charcuteri board burger cours onion ...</td>\n",
       "    </tr>\n",
       "    <tr>\n",
       "      <th>2</th>\n",
       "      <td>authent delici korean cuisin exampl sea urchin...</td>\n",
       "    </tr>\n",
       "    <tr>\n",
       "      <th>3</th>\n",
       "      <td>best steak vibe citi stand dish main lobster s...</td>\n",
       "    </tr>\n",
       "    <tr>\n",
       "      <th>4</th>\n",
       "      <td>coq au vin tasti moist chicken serv delic sauc...</td>\n",
       "    </tr>\n",
       "    <tr>\n",
       "      <th>...</th>\n",
       "      <td>...</td>\n",
       "    </tr>\n",
       "    <tr>\n",
       "      <th>8679</th>\n",
       "      <td>overal experi good</td>\n",
       "    </tr>\n",
       "    <tr>\n",
       "      <th>8680</th>\n",
       "      <td>everyth good</td>\n",
       "    </tr>\n",
       "    <tr>\n",
       "      <th>8681</th>\n",
       "      <td>ac room servic good</td>\n",
       "    </tr>\n",
       "    <tr>\n",
       "      <th>8682</th>\n",
       "      <td>like thank manag</td>\n",
       "    </tr>\n",
       "    <tr>\n",
       "      <th>8683</th>\n",
       "      <td>good hotel good experi hotel good staff well d...</td>\n",
       "    </tr>\n",
       "  </tbody>\n",
       "</table>\n",
       "<p>8684 rows × 1 columns</p>\n",
       "</div>"
      ],
      "text/plain": [
       "                                               yorumlar\n",
       "0     fri terrif also hot crisp love food server mar...\n",
       "1     abso love charcuteri board burger cours onion ...\n",
       "2     authent delici korean cuisin exampl sea urchin...\n",
       "3     best steak vibe citi stand dish main lobster s...\n",
       "4     coq au vin tasti moist chicken serv delic sauc...\n",
       "...                                                 ...\n",
       "8679                                 overal experi good\n",
       "8680                                       everyth good\n",
       "8681                                ac room servic good\n",
       "8682                                   like thank manag\n",
       "8683  good hotel good experi hotel good staff well d...\n",
       "\n",
       "[8684 rows x 1 columns]"
      ]
     },
     "execution_count": 3,
     "metadata": {},
     "output_type": "execute_result"
    }
   ],
   "source": [
    "df"
   ]
  },
  {
   "cell_type": "code",
   "execution_count": 6,
   "id": "4bebf66b-490e-4001-95f5-6405984c7860",
   "metadata": {},
   "outputs": [],
   "source": [
    "def zipf_analysis(text_column, num_words=50):\n",
    "    # Geçersiz ve boş değerleri temizle\n",
    "    cleaned_texts = text_column.dropna().astype(str)\n",
    "\n",
    "    if cleaned_texts.empty:\n",
    "        print(\"Uyarı: Metin verisi boş. Analiz yapılamaz.\")\n",
    "        return\n",
    "\n",
    "    # Metinleri birleştir ve temizle\n",
    "    text = ' '.join(cleaned_texts).lower()\n",
    "    text = re.sub(r'[^\\w\\s]', '', text)\n",
    "\n",
    "    # Tokenizasyon\n",
    "    tokens = nltk.word_tokenize(text)\n",
    "    tokens = [token for token in tokens if token.isalpha()]\n",
    "\n",
    "    if not tokens:\n",
    "        print(\"Uyarı: Temizleme sonrası analiz yapılacak kelime kalmadı.\")\n",
    "        return\n",
    "\n",
    "    # Kelime sıklığı\n",
    "    word_counts = Counter(tokens)\n",
    "    most_common_words = word_counts.most_common(num_words)\n",
    "\n",
    "    # Sıra ve sıklık verileri\n",
    "    ranks = np.arange(1, len(most_common_words) + 1)\n",
    "    frequencies = [count for word, count in most_common_words]\n",
    "\n",
    "    # Grafik\n",
    "    plt.figure(figsize=(10, 6))\n",
    "    plt.loglog(ranks, frequencies, marker='o')\n",
    "    plt.xlabel('Kelime Sırası (log)')\n",
    "    plt.ylabel('Kelime Sıklığı (log)')\n",
    "    plt.title('Zipf Yasası Analizi (stemmed_sentences)')\n",
    "    plt.grid(True)\n",
    "    plt.show()\n",
    "\n",
    "    # Bilgi çıktısı\n",
    "    print(f\"Toplam kelime sayısı: {len(tokens)}\")\n",
    "    print(f\"Farklı kelime sayısı: {len(word_counts)}\")\n",
    "\n",
    "    if len(tokens) < 10000:\n",
    "        print(\"Veri seti küçük. Zipf analizi sınırlı genellenebilir.\")\n",
    "    else:\n",
    "        print(\"Veri seti yeterli büyüklükte.\")"
   ]
  },
  {
   "cell_type": "code",
   "execution_count": 7,
   "id": "10c9bb86-3433-4518-88ad-bdbdce35fbe2",
   "metadata": {},
   "outputs": [
    {
     "data": {
      "image/png": "[encoded data removed]",
      "text/plain": [
       "<Figure size 1000x600 with 1 Axes>"
      ]
     },
     "metadata": {},
     "output_type": "display_data"
    },
    {
     "name": "stdout",
     "output_type": "stream",
     "text": [
      "Toplam kelime sayısı: 92459\n",
      "Farklı kelime sayısı: 5678\n",
      "Veri seti yeterli büyüklükte.\n"
     ]
    }
   ],
   "source": [
    "df = pd.read_csv(r\"C:\\Users\\yasin\\Desktop\\otel-restoran-tahmini\\csv\\stemmed_sentences.csv\", header=None, names=[\"yorumlar\"])\n",
    "zipf_analysis(df[\"yorumlar\"])"
   ]
  },
  {
   "cell_type": "code",
   "execution_count": null,
   "id": "67d01736-d474-45bb-89fe-c2423526be82",
   "metadata": {},
   "outputs": [],
   "source": []
  }
 ],
 "metadata": {
  "kernelspec": {
   "display_name": "Python 3 (ipykernel)",
   "language": "python",
   "name": "python3"
  },
  "language_info": {
   "codemirror_mode": {
    "name": "ipython",
    "version": 3
   },
   "file_extension": ".py",
   "mimetype": "text/x-python",
   "name": "python",
   "nbconvert_exporter": "python",
   "pygments_lexer": "ipython3",
   "version": "3.12.7"
  }
 },
 "nbformat": 4,
 "nbformat_minor": 5
}
